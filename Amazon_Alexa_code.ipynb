{
  "cells": [
    {
      "cell_type": "code",
      "execution_count": null,
      "id": "458e5189",
      "metadata": {
        "id": "458e5189"
      },
      "outputs": [],
      "source": [
        "import pandas as pd\n",
        "import numpy as np\n",
        "import matplotlib.pyplot as plt\n",
        "import seaborn as sns"
      ]
    },
    {
      "cell_type": "code",
      "execution_count": null,
      "id": "82fd5941",
      "metadata": {
        "id": "82fd5941"
      },
      "outputs": [],
      "source": [
        "reviews_df= pd.read_csv('amazon_alexa.tsv', sep = '\\t')"
      ]
    },
    {
      "cell_type": "code",
      "execution_count": null,
      "id": "e4ae547e",
      "metadata": {
        "id": "e4ae547e"
      },
      "outputs": [],
      "source": [
        "print(reviews_df)"
      ]
    },
    {
      "cell_type": "code",
      "execution_count": null,
      "id": "d721669a",
      "metadata": {
        "id": "d721669a"
      },
      "outputs": [],
      "source": [
        "reviews_df.info()"
      ]
    },
    {
      "cell_type": "code",
      "execution_count": null,
      "id": "cd2783f4",
      "metadata": {
        "id": "cd2783f4"
      },
      "outputs": [],
      "source": [
        "reviews_df.describe()"
      ]
    },
    {
      "cell_type": "code",
      "execution_count": null,
      "id": "262217c5",
      "metadata": {
        "id": "262217c5"
      },
      "outputs": [],
      "source": [
        "reviews_df['verified_reviews']"
      ]
    },
    {
      "cell_type": "code",
      "execution_count": null,
      "id": "40af30e4",
      "metadata": {
        "id": "40af30e4"
      },
      "outputs": [],
      "source": [
        "sns.heatmap(reviews_df.isnull(), yticklabels = False, cbar = False, cmap = 'Blues')"
      ]
    },
    {
      "cell_type": "code",
      "execution_count": null,
      "id": "281f8286",
      "metadata": {
        "id": "281f8286"
      },
      "outputs": [],
      "source": [
        "reviews_df.hist(bins = 30 , figsize = (13,5), color = 'r')"
      ]
    },
    {
      "cell_type": "code",
      "execution_count": null,
      "id": "493ba946",
      "metadata": {
        "id": "493ba946"
      },
      "outputs": [],
      "source": [
        "reviews_df['length'] = reviews_df['verified_reviews'].apply(len)"
      ]
    },
    {
      "cell_type": "code",
      "execution_count": null,
      "id": "a1320d70",
      "metadata": {
        "id": "a1320d70"
      },
      "outputs": [],
      "source": [
        "reviews_df.head()"
      ]
    },
    {
      "cell_type": "code",
      "execution_count": null,
      "id": "d94b8ac4",
      "metadata": {
        "id": "d94b8ac4"
      },
      "outputs": [],
      "source": [
        "reviews_df['length'].plot(bins = 100, kind = 'hist')"
      ]
    },
    {
      "cell_type": "code",
      "execution_count": null,
      "id": "b20634ca",
      "metadata": {
        "id": "b20634ca"
      },
      "outputs": [],
      "source": [
        "reviews_df.length.describe()"
      ]
    },
    {
      "cell_type": "code",
      "execution_count": null,
      "id": "c8093a55",
      "metadata": {
        "id": "c8093a55"
      },
      "outputs": [],
      "source": [
        "#longest\n",
        "reviews_df[reviews_df['length'] == 2851]['verified_reviews'].iloc[0]"
      ]
    },
    {
      "cell_type": "code",
      "execution_count": null,
      "id": "ba71162c",
      "metadata": {
        "id": "ba71162c"
      },
      "outputs": [],
      "source": [
        "#shortest\n",
        "reviews_df[reviews_df['length'] == 1]['verified_reviews'].iloc[0]"
      ]
    },
    {
      "cell_type": "code",
      "execution_count": null,
      "id": "301f4c33",
      "metadata": {
        "id": "301f4c33"
      },
      "outputs": [],
      "source": [
        "#average/mean\n",
        "reviews_df[reviews_df['length'] == 132]['verified_reviews'].iloc[0]"
      ]
    },
    {
      "cell_type": "code",
      "execution_count": null,
      "id": "e5dd779a",
      "metadata": {
        "id": "e5dd779a"
      },
      "outputs": [],
      "source": [
        "#postive reviews\n",
        "postive = reviews_df[reviews_df['feedback']==1]"
      ]
    },
    {
      "cell_type": "code",
      "execution_count": null,
      "id": "fe03be02",
      "metadata": {
        "id": "fe03be02"
      },
      "outputs": [],
      "source": [
        "#negative reviews\n",
        "negative = reviews_df[reviews_df['feedback']==0]"
      ]
    },
    {
      "cell_type": "code",
      "execution_count": null,
      "id": "8986d652",
      "metadata": {
        "id": "8986d652"
      },
      "outputs": [],
      "source": [
        "sns.countplot(reviews_df['feedback'], label = 'count')"
      ]
    },
    {
      "cell_type": "code",
      "execution_count": null,
      "id": "81ac5d9a",
      "metadata": {
        "id": "81ac5d9a"
      },
      "outputs": [],
      "source": [
        "sns.countplot(x = 'rating' , data = reviews_df)"
      ]
    },
    {
      "cell_type": "code",
      "execution_count": null,
      "id": "b94a2b5b",
      "metadata": {
        "id": "b94a2b5b"
      },
      "outputs": [],
      "source": [
        "plt.figure(figsize=(40,15))\n",
        "sns.barplot(x = 'variation' , y = 'rating' , data = reviews_df, palette = 'deep')"
      ]
    },
    {
      "cell_type": "code",
      "execution_count": null,
      "id": "5e7c1c6a",
      "metadata": {
        "id": "5e7c1c6a"
      },
      "outputs": [],
      "source": [
        "sentences = reviews_df['verified_reviews'].tolist()\n",
        "sentences"
      ]
    },
    {
      "cell_type": "code",
      "execution_count": null,
      "id": "94a84715",
      "metadata": {
        "id": "94a84715"
      },
      "outputs": [],
      "source": [
        ""
      ]
    },
    {
      "cell_type": "code",
      "execution_count": null,
      "id": "b26840e7",
      "metadata": {
        "id": "b26840e7"
      },
      "outputs": [],
      "source": [
        "sentences_as_one_string = \" \".join(sentences)"
      ]
    },
    {
      "cell_type": "code",
      "execution_count": null,
      "id": "7213bb94",
      "metadata": {
        "id": "7213bb94"
      },
      "outputs": [],
      "source": [
        "sentences_as_one_string"
      ]
    },
    {
      "cell_type": "code",
      "execution_count": null,
      "id": "31a1b9b8",
      "metadata": {
        "id": "31a1b9b8"
      },
      "outputs": [],
      "source": [
        "from wordcloud import WordCloud\n",
        "plt.figure(figsize = (20,20))\n",
        "plt.imshow(WordCloud().generate(sentences_as_one_string))"
      ]
    },
    {
      "cell_type": "code",
      "execution_count": null,
      "id": "2cfeb17a",
      "metadata": {
        "id": "2cfeb17a"
      },
      "outputs": [],
      "source": [
        "negative_list = negative['verified_reviews'].tolist()\n",
        "negative_list"
      ]
    },
    {
      "cell_type": "code",
      "execution_count": null,
      "id": "2b048bf9",
      "metadata": {
        "id": "2b048bf9"
      },
      "outputs": [],
      "source": [
        "negative_sentences_as_one_string = \" \".join(negative_list)\n",
        "negative_sentences_as_one_string "
      ]
    },
    {
      "cell_type": "code",
      "execution_count": null,
      "id": "6366a96e",
      "metadata": {
        "id": "6366a96e"
      },
      "outputs": [],
      "source": [
        "plt.figure (figsize = (20,20))\n",
        "plt.imshow(WordCloud().generate(negative_sentences_as_one_string))"
      ]
    },
    {
      "cell_type": "code",
      "execution_count": null,
      "id": "708c7a9b",
      "metadata": {
        "id": "708c7a9b"
      },
      "outputs": [],
      "source": [
        "reviews_df.head()"
      ]
    },
    {
      "cell_type": "code",
      "execution_count": null,
      "id": "2af1749e",
      "metadata": {
        "id": "2af1749e"
      },
      "outputs": [],
      "source": [
        "reviews_df = reviews_df.drop (['date', 'rating','length'],axis = 1)"
      ]
    },
    {
      "cell_type": "raw",
      "id": "fe5f424c",
      "metadata": {
        "id": "fe5f424c"
      },
      "source": [
        ""
      ]
    },
    {
      "cell_type": "code",
      "execution_count": null,
      "id": "5fa5d102",
      "metadata": {
        "id": "5fa5d102"
      },
      "outputs": [],
      "source": [
        "variation_dummies = pd.get_dummies(reviews_df['variation'], drop_first = True)"
      ]
    },
    {
      "cell_type": "code",
      "execution_count": null,
      "id": "fa91e033",
      "metadata": {
        "id": "fa91e033"
      },
      "outputs": [],
      "source": [
        "print (variation_dummies)"
      ]
    },
    {
      "cell_type": "code",
      "execution_count": null,
      "id": "185e4319",
      "metadata": {
        "id": "185e4319"
      },
      "outputs": [],
      "source": [
        "reviews_df.drop(['variation'], axis =1 , inplace = True)"
      ]
    },
    {
      "cell_type": "code",
      "execution_count": null,
      "id": "723bff88",
      "metadata": {
        "id": "723bff88"
      },
      "outputs": [],
      "source": [
        "reviews_df = pd.concat([reviews_df,variation_dummies], axis =1)"
      ]
    },
    {
      "cell_type": "code",
      "execution_count": null,
      "id": "eb6e6bb9",
      "metadata": {
        "id": "eb6e6bb9"
      },
      "outputs": [],
      "source": [
        "print (reviews_df)"
      ]
    },
    {
      "cell_type": "code",
      "execution_count": null,
      "id": "bcab23b8",
      "metadata": {
        "id": "bcab23b8"
      },
      "outputs": [],
      "source": [
        "import string\n",
        "string.punctuation"
      ]
    },
    {
      "cell_type": "code",
      "execution_count": null,
      "id": "ac60c30d",
      "metadata": {
        "id": "ac60c30d"
      },
      "outputs": [],
      "source": [
        "#removing punctuation marks\n",
        "reviews_df['punctuaution_removed']=reviews_df['verified_reviews'].str.replace('[^\\w\\s]', '')"
      ]
    },
    {
      "cell_type": "code",
      "execution_count": null,
      "id": "cf7fab0d",
      "metadata": {
        "id": "cf7fab0d"
      },
      "outputs": [],
      "source": [
        "reviews_df.head()"
      ]
    },
    {
      "cell_type": "code",
      "execution_count": null,
      "id": "d0befa64",
      "metadata": {
        "id": "d0befa64"
      },
      "outputs": [],
      "source": [
        "reviews_df.drop(['verified_reviews'], axis =1 , inplace = True)"
      ]
    },
    {
      "cell_type": "code",
      "execution_count": null,
      "id": "e0621107",
      "metadata": {
        "id": "e0621107"
      },
      "outputs": [],
      "source": [
        "reviews_df.head()"
      ]
    },
    {
      "cell_type": "code",
      "execution_count": null,
      "id": "ddec2bac",
      "metadata": {
        "id": "ddec2bac"
      },
      "outputs": [],
      "source": [
        "from nltk.corpus import stopwords\n",
        "stop_words = stopwords.words('english')\n",
        "stop_words"
      ]
    },
    {
      "cell_type": "code",
      "execution_count": null,
      "id": "ea9eb03e",
      "metadata": {
        "id": "ea9eb03e"
      },
      "outputs": [],
      "source": [
        "reviews_df['punctuaution_removed_cleaned']=reviews_df['punctuaution_removed'].apply(lambda x: \" \".join(word for word in x.split() if word not in stop_words) )"
      ]
    },
    {
      "cell_type": "code",
      "execution_count": null,
      "id": "fcc68361",
      "metadata": {
        "id": "fcc68361"
      },
      "outputs": [],
      "source": [
        "reviews_df.head()"
      ]
    },
    {
      "cell_type": "code",
      "execution_count": null,
      "id": "0fe6275c",
      "metadata": {
        "id": "0fe6275c"
      },
      "outputs": [],
      "source": [
        "#value counts of words top 30\n",
        "pd.Series(\" \".join(reviews_df['punctuaution_removed_cleaned']).split()).value_counts()[:60]"
      ]
    },
    {
      "cell_type": "code",
      "execution_count": null,
      "id": "a7e431d3",
      "metadata": {
        "id": "a7e431d3"
      },
      "outputs": [],
      "source": [
        "other_stop_words=['I','Im', 'We','It','test','this','So','even','far', 'Its','this','also']\n",
        "len(other_stop_words)"
      ]
    },
    {
      "cell_type": "code",
      "execution_count": null,
      "id": "b2c8246b",
      "metadata": {
        "id": "b2c8246b"
      },
      "outputs": [],
      "source": [
        "reviews_df['cleanview']=reviews_df['punctuaution_removed_cleaned'].apply(lambda x: \" \".join(word for word in x.split() if word not in other_stop_words))"
      ]
    },
    {
      "cell_type": "code",
      "execution_count": null,
      "id": "e897e158",
      "metadata": {
        "id": "e897e158"
      },
      "outputs": [],
      "source": [
        "reviews_df.head()"
      ]
    },
    {
      "cell_type": "code",
      "execution_count": null,
      "id": "e47bb4c6",
      "metadata": {
        "id": "e47bb4c6"
      },
      "outputs": [],
      "source": [
        "from textblob import Word"
      ]
    },
    {
      "cell_type": "code",
      "execution_count": null,
      "id": "6d87e248",
      "metadata": {
        "id": "6d87e248"
      },
      "outputs": [],
      "source": [
        "reviews_df['lemmatized']=reviews_df['cleanview'].apply(lambda x: \" \".join( Word(word).lemmatize() for word in x.split()))"
      ]
    },
    {
      "cell_type": "code",
      "execution_count": null,
      "id": "57c05730",
      "metadata": {
        "id": "57c05730"
      },
      "outputs": [],
      "source": [
        "reviews_df.head()"
      ]
    },
    {
      "cell_type": "code",
      "execution_count": null,
      "id": "2d8ae726",
      "metadata": {
        "id": "2d8ae726"
      },
      "outputs": [],
      "source": [
        "from sklearn.feature_extraction.text import CountVectorizer"
      ]
    },
    {
      "cell_type": "code",
      "execution_count": null,
      "id": "9df75e20",
      "metadata": {
        "id": "9df75e20"
      },
      "outputs": [],
      "source": [
        "vectorizer = CountVectorizer()"
      ]
    },
    {
      "cell_type": "code",
      "execution_count": null,
      "id": "3dea6584",
      "metadata": {
        "id": "3dea6584"
      },
      "outputs": [],
      "source": [
        "reviews_count_vectorizer = vectorizer.fit_transform(reviews_df['lemmatized'])"
      ]
    },
    {
      "cell_type": "code",
      "execution_count": null,
      "id": "87891033",
      "metadata": {
        "id": "87891033"
      },
      "outputs": [],
      "source": [
        "# print (vectorizer.get_feature_names())"
      ]
    },
    {
      "cell_type": "code",
      "execution_count": null,
      "id": "edf2f10b",
      "metadata": {
        "id": "edf2f10b"
      },
      "outputs": [],
      "source": [
        "print (reviews_count_vectorizer.toarray())"
      ]
    },
    {
      "cell_type": "code",
      "execution_count": null,
      "id": "98fc996c",
      "metadata": {
        "id": "98fc996c"
      },
      "outputs": [],
      "source": [
        "reviews_count_vectorizer.shape"
      ]
    },
    {
      "cell_type": "code",
      "execution_count": null,
      "id": "596ef7dd",
      "metadata": {
        "id": "596ef7dd"
      },
      "outputs": [],
      "source": [
        "reviews_df.drop(['punctuaution_removed','punctuaution_removed_cleaned','cleanview','lemmatized'], axis = 1, inplace = True)"
      ]
    },
    {
      "cell_type": "code",
      "execution_count": null,
      "id": "66e0e051",
      "metadata": {
        "id": "66e0e051"
      },
      "outputs": [],
      "source": [
        "reviews = pd.DataFrame(reviews_count_vectorizer.toarray())"
      ]
    },
    {
      "cell_type": "code",
      "execution_count": null,
      "id": "5f9a2ef8",
      "metadata": {
        "id": "5f9a2ef8"
      },
      "outputs": [],
      "source": [
        "reviews_df = pd.concat([reviews_df,reviews], axis = 1)"
      ]
    },
    {
      "cell_type": "code",
      "execution_count": null,
      "id": "42d416cf",
      "metadata": {
        "id": "42d416cf"
      },
      "outputs": [],
      "source": [
        "reviews_df.head()"
      ]
    },
    {
      "cell_type": "code",
      "execution_count": null,
      "id": "73794737",
      "metadata": {
        "id": "73794737"
      },
      "outputs": [],
      "source": [
        "X = reviews_df.drop(['feedback'], axis = 1)"
      ]
    },
    {
      "cell_type": "code",
      "execution_count": null,
      "id": "c717d3a7",
      "metadata": {
        "id": "c717d3a7"
      },
      "outputs": [],
      "source": [
        "y = reviews_df['feedback']"
      ]
    },
    {
      "cell_type": "code",
      "execution_count": null,
      "id": "2f8366c4",
      "metadata": {
        "id": "2f8366c4"
      },
      "outputs": [],
      "source": [
        "X.shape"
      ]
    },
    {
      "cell_type": "code",
      "execution_count": null,
      "id": "333366cf",
      "metadata": {
        "id": "333366cf"
      },
      "outputs": [],
      "source": [
        "y.shape"
      ]
    },
    {
      "cell_type": "code",
      "execution_count": null,
      "id": "1879bfb4",
      "metadata": {
        "id": "1879bfb4"
      },
      "outputs": [],
      "source": [
        "from sklearn.model_selection import train_test_split\n",
        "X_train,X_test,y_train,y_test = train_test_split(X, y, test_size = 0.2)"
      ]
    },
    {
      "cell_type": "code",
      "execution_count": null,
      "id": "1a7146b5",
      "metadata": {
        "id": "1a7146b5"
      },
      "outputs": [],
      "source": [
        "from sklearn.naive_bayes import MultinomialNB"
      ]
    },
    {
      "cell_type": "code",
      "execution_count": null,
      "id": "5ffdcbfc",
      "metadata": {
        "id": "5ffdcbfc"
      },
      "outputs": [],
      "source": [
        "NB_classifier = MultinomialNB()\n",
        "model = NB_classifier.fit(X_train, y_train)"
      ]
    },
    {
      "cell_type": "code",
      "execution_count": null,
      "id": "1eba5da9",
      "metadata": {
        "id": "1eba5da9"
      },
      "outputs": [],
      "source": [
        "from sklearn.metrics import confusion_matrix, classification_report\n",
        "y_predict_train = model.predict(X_train)"
      ]
    },
    {
      "cell_type": "code",
      "execution_count": null,
      "id": "2c07d70b",
      "metadata": {
        "id": "2c07d70b"
      },
      "outputs": [],
      "source": [
        "y_predict_train"
      ]
    },
    {
      "cell_type": "code",
      "execution_count": null,
      "id": "5c7d4470",
      "metadata": {
        "id": "5c7d4470"
      },
      "outputs": [],
      "source": [
        "cm = confusion_matrix(y_train, y_predict_train)\n",
        "sns.heatmap(cm, annot = True)"
      ]
    },
    {
      "cell_type": "code",
      "execution_count": null,
      "id": "b0bd2be8",
      "metadata": {
        "id": "b0bd2be8"
      },
      "outputs": [],
      "source": [
        "y_predict_test = model.predict(X_test)\n",
        "cm = confusion_matrix(y_test, y_predict_test)\n",
        "sns.heatmap(cm, annot = True)\n"
      ]
    },
    {
      "cell_type": "code",
      "execution_count": null,
      "id": "185fc767",
      "metadata": {
        "id": "185fc767"
      },
      "outputs": [],
      "source": [
        "print (classification_report(y_test, y_predict_test))"
      ]
    },
    {
      "cell_type": "code",
      "execution_count": null,
      "id": "3e9a372d",
      "metadata": {
        "id": "3e9a372d"
      },
      "outputs": [],
      "source": [
        "from sklearn.linear_model import LogisticRegression\n",
        "from sklearn.metrics import accuracy_score\n"
      ]
    },
    {
      "cell_type": "code",
      "execution_count": null,
      "id": "091364c5",
      "metadata": {
        "id": "091364c5"
      },
      "outputs": [],
      "source": [
        "model = LogisticRegression()\n",
        "model.fit(X_train, y_train)"
      ]
    },
    {
      "cell_type": "code",
      "execution_count": null,
      "id": "3f0bbf0c",
      "metadata": {
        "id": "3f0bbf0c"
      },
      "outputs": [],
      "source": [
        "y_pred = model.predict(X_test)"
      ]
    },
    {
      "cell_type": "code",
      "execution_count": null,
      "id": "9dc7e436",
      "metadata": {
        "id": "9dc7e436"
      },
      "outputs": [],
      "source": [
        "print ('Acuracy = {}%'.format(100*accuracy_score(y_pred,y_test)))"
      ]
    },
    {
      "cell_type": "code",
      "execution_count": null,
      "id": "dbd5890b",
      "metadata": {
        "id": "dbd5890b"
      },
      "outputs": [],
      "source": [
        "cm = confusion_matrix(y_pred,y_test)\n",
        "sns.heatmap(cm,annot = True)"
      ]
    },
    {
      "cell_type": "code",
      "execution_count": null,
      "id": "433a1458",
      "metadata": {
        "id": "433a1458"
      },
      "outputs": [],
      "source": [
        "print (classification_report (y_test, y_pred))"
      ]
    },
    {
      "cell_type": "code",
      "execution_count": null,
      "id": "a2d618b7",
      "metadata": {
        "id": "a2d618b7"
      },
      "outputs": [],
      "source": [
        ""
      ]
    }
  ],
  "metadata": {
    "kernelspec": {
      "display_name": "Python 3",
      "language": "python",
      "name": "python3"
    },
    "language_info": {
      "codemirror_mode": {
        "name": "ipython",
        "version": 3
      },
      "file_extension": ".py",
      "mimetype": "text/x-python",
      "name": "python",
      "nbconvert_exporter": "python",
      "pygments_lexer": "ipython3",
      "version": "3.8.8"
    },
    "colab": {
      "name": "amazon_alexa.ipynp",
      "provenance": []
    }
  },
  "nbformat": 4,
  "nbformat_minor": 5
}